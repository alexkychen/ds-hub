{
 "cells": [
  {
   "cell_type": "markdown",
   "id": "bb11ad2f",
   "metadata": {},
   "source": [
    "# Python Basics\n",
    "\n",
    "## Numbers and arithmetic"
   ]
  },
  {
   "cell_type": "code",
   "execution_count": 1,
   "id": "1c1a7974",
   "metadata": {},
   "outputs": [
    {
     "name": "stdout",
     "output_type": "stream",
     "text": [
      "a + b = 8.0\n",
      "b - a = 4.0\n",
      "a * b = 12.0\n",
      "b / a = 3.0\n",
      "b ** a = 36.0\n",
      "5 // 2 = 2\n",
      "5 % 2 = 1\n"
     ]
    }
   ],
   "source": [
    "a = 2 # int \n",
    "b = 6.0 # float\n",
    "c = 12 + 0j # complex \n",
    "\n",
    "print(f\"a + b = {a + b}\") # addition\n",
    "print(f\"b - a = {b - a }\") # substraction\n",
    "print(f\"a * b = {a * b}\") # multiplication\n",
    "print(f\"b / a = {b / a}\") # division\n",
    "print(f\"b ** a = {b ** a}\") # exponentiation \n",
    "print(f\"5 // 2 = {5 // 2}\") # get quotient \n",
    "print(f\"5 % 2 = {5 % 2}\") # get remainder"
   ]
  },
  {
   "cell_type": "markdown",
   "id": "685ece6d",
   "metadata": {},
   "source": [
    "## String \n",
    "String variables are either single- or double quoted. `a = \"hello\"` or `a = 'hello'`"
   ]
  },
  {
   "cell_type": "code",
   "execution_count": 2,
   "id": "3210d0cc",
   "metadata": {},
   "outputs": [
    {
     "name": "stdout",
     "output_type": "stream",
     "text": [
      "hello world\n"
     ]
    }
   ],
   "source": [
    "a = \"hello\"\n",
    "b = \"world\"\n",
    "\n",
    "# string can be added \n",
    "a + b # = \"helloworld\"\n",
    "\n",
    "# print variable \n",
    "print(a + \" \" + b) # > hello world"
   ]
  },
  {
   "cell_type": "markdown",
   "id": "24e3c3af",
   "metadata": {},
   "source": [
    "## Arrays\n",
    "```{list-table} Python array data type and property\n",
    ":header-rows: 1\n",
    "\n",
    "* - property\n",
    "  - Set \n",
    "  - List\n",
    "  - Tuple\n",
    "  - Dictionary\n",
    "* - indexable\n",
    "  - No\n",
    "  - Yes\n",
    "  - Yes\n",
    "  - Yes (use key)\n",
    "* - addable/removable\n",
    "  - Yes\n",
    "  - Yes\n",
    "  - No\n",
    "  - Yes\n",
    "* - repeatable\n",
    "  - No\n",
    "  - Yes\n",
    "  - Yes\n",
    "  - Yes for value, No for key\n",
    "* - sortable\n",
    "  - No\n",
    "  - Yes\n",
    "  - No\n",
    "  - Yes\n",
    "\n",
    "```\n",
    "\n",
    "### Set \n",
    "Set is a group of unique elements. No duplicates; non-ordered; non-indexable"
   ]
  },
  {
   "cell_type": "code",
   "execution_count": 3,
   "id": "10d5294b",
   "metadata": {},
   "outputs": [
    {
     "name": "stdout",
     "output_type": "stream",
     "text": [
      "A set of odd numbers: {1, 3, 4, 7}\n",
      "A set of even numbers: {2, 4, 6}\n",
      "Note that the order of elements differs from creation.\n"
     ]
    }
   ],
   "source": [
    "# create empty set \n",
    "example_set = set()\n",
    "\n",
    "# create a set with elements\n",
    "odd = {3, 1, 7, 4} \n",
    "even = {4, 2, 6}\n",
    "\n",
    "print(f\"A set of odd numbers: {odd}\")\n",
    "print(f\"A set of even numbers: {even}\")\n",
    "print(\"Note that the order of elements differs from creation.\")"
   ]
  },
  {
   "cell_type": "markdown",
   "id": "cde4c373",
   "metadata": {},
   "source": [
    "Remove an element"
   ]
  },
  {
   "cell_type": "code",
   "execution_count": 4,
   "id": "9fb3e2ed",
   "metadata": {},
   "outputs": [
    {
     "data": {
      "text/plain": [
       "{1, 3, 7}"
      ]
     },
     "execution_count": 4,
     "metadata": {},
     "output_type": "execute_result"
    }
   ],
   "source": [
    "odd.remove(4)\n",
    "odd"
   ]
  },
  {
   "cell_type": "markdown",
   "id": "24c4477d",
   "metadata": {},
   "source": [
    "Use `remove` to remove an element not eixst will give traceback. One can use `discard` to remove an element to skip traceback if the element does not exist"
   ]
  },
  {
   "cell_type": "code",
   "execution_count": 5,
   "id": "8d15968f",
   "metadata": {},
   "outputs": [],
   "source": [
    "odd.discard(10)"
   ]
  },
  {
   "cell_type": "markdown",
   "id": "d4e977d7",
   "metadata": {},
   "source": [
    "Add an element"
   ]
  },
  {
   "cell_type": "code",
   "execution_count": 6,
   "id": "dfd75050",
   "metadata": {},
   "outputs": [
    {
     "data": {
      "text/plain": [
       "{2, 4, 6, 8}"
      ]
     },
     "execution_count": 6,
     "metadata": {},
     "output_type": "execute_result"
    }
   ],
   "source": [
    "even.add(8)\n",
    "even"
   ]
  },
  {
   "cell_type": "markdown",
   "id": "1504c1f4",
   "metadata": {},
   "source": [
    "Union between sets"
   ]
  },
  {
   "cell_type": "code",
   "execution_count": 7,
   "id": "ba13ae55",
   "metadata": {},
   "outputs": [
    {
     "data": {
      "text/plain": [
       "{1, 2, 3, 4, 6, 7, 8}"
      ]
     },
     "execution_count": 7,
     "metadata": {},
     "output_type": "execute_result"
    }
   ],
   "source": [
    "num_set = odd.union(even)\n",
    "num_set"
   ]
  },
  {
   "cell_type": "markdown",
   "id": "e967ee04",
   "metadata": {},
   "source": [
    "Find intersection between sets"
   ]
  },
  {
   "cell_type": "code",
   "execution_count": 8,
   "id": "bc60e17f",
   "metadata": {},
   "outputs": [
    {
     "data": {
      "text/plain": [
       "{True, 'orange'}"
      ]
     },
     "execution_count": 8,
     "metadata": {},
     "output_type": "execute_result"
    }
   ],
   "source": [
    "set1 = {0, 1, 'apple', 'orange'}\n",
    "set2 = {True, 'orange', 'lemon'}\n",
    "set3 = set1.intersection(set2)\n",
    "set3"
   ]
  },
  {
   "cell_type": "markdown",
   "id": "b86c7b53",
   "metadata": {},
   "source": [
    "Clear elements in a set"
   ]
  },
  {
   "cell_type": "code",
   "execution_count": 9,
   "id": "5c3f3a9c",
   "metadata": {},
   "outputs": [
    {
     "data": {
      "text/plain": [
       "set()"
      ]
     },
     "execution_count": 9,
     "metadata": {},
     "output_type": "execute_result"
    }
   ],
   "source": [
    "set3.clear()\n",
    "set3"
   ]
  },
  {
   "cell_type": "markdown",
   "id": "099dad98",
   "metadata": {},
   "source": [
    "### List"
   ]
  },
  {
   "cell_type": "code",
   "execution_count": 10,
   "id": "457c2e1d",
   "metadata": {},
   "outputs": [
    {
     "name": "stdout",
     "output_type": "stream",
     "text": [
      "A list of odd numbers: [3, 1, 7, 4]\n",
      "A list of even numbers: [4, 2, 6]\n"
     ]
    }
   ],
   "source": [
    "odd = [3, 1 , 7, 4]\n",
    "even = [4, 2, 6]\n",
    "\n",
    "print(f\"A list of odd numbers: {odd}\")\n",
    "print(f\"A list of even numbers: {even}\")"
   ]
  },
  {
   "cell_type": "markdown",
   "id": "521f1062",
   "metadata": {},
   "source": [
    "Access element in a list using index"
   ]
  },
  {
   "cell_type": "code",
   "execution_count": 11,
   "id": "e9864cb0",
   "metadata": {},
   "outputs": [
    {
     "name": "stdout",
     "output_type": "stream",
     "text": [
      "The first element of odd list: 3\n",
      "The last elment of even list: 6\n",
      "The first two elements of odd list: [3, 1]\n"
     ]
    }
   ],
   "source": [
    "a = odd[0]\n",
    "b = even[-1]\n",
    "c = odd[:2]\n",
    "print(f\"The first element of odd list: {a}\")\n",
    "print(f\"The last elment of even list: {b}\")\n",
    "print(f\"The first two elements of odd list: {c}\")"
   ]
  },
  {
   "cell_type": "markdown",
   "id": "ee26aef8",
   "metadata": {},
   "source": [
    "Add elements to list: use index, append, insert, extend, or +"
   ]
  },
  {
   "cell_type": "code",
   "execution_count": 12,
   "id": "071df490",
   "metadata": {},
   "outputs": [
    {
     "name": "stdout",
     "output_type": "stream",
     "text": [
      "odd: [3, 1, 7, 9, 2]\n",
      "even: [4, 2, 6, 8, 10, 12]\n"
     ]
    }
   ],
   "source": [
    "# use index\n",
    "odd[-1] = 9\n",
    "\n",
    "# use append\n",
    "even.append(8)\n",
    "\n",
    "# use insert (element, index)\n",
    "odd.insert(5, 2)\n",
    "\n",
    "# use extend \n",
    "even.extend([10, 12])\n",
    "\n",
    "print(f\"odd: {odd}\")\n",
    "print(f\"even: {even}\")"
   ]
  },
  {
   "cell_type": "markdown",
   "id": "570b2f4a",
   "metadata": {},
   "source": [
    "List addition"
   ]
  },
  {
   "cell_type": "code",
   "execution_count": 13,
   "id": "773ed361",
   "metadata": {},
   "outputs": [
    {
     "data": {
      "text/plain": [
       "[3, 1, 7, 9, 2, 4, 2, 6, 8, 10, 12]"
      ]
     },
     "execution_count": 13,
     "metadata": {},
     "output_type": "execute_result"
    }
   ],
   "source": [
    "odd + even"
   ]
  },
  {
   "cell_type": "markdown",
   "id": "6e39150c",
   "metadata": {},
   "source": [
    "Remove elements in a list: pop, remove, clear"
   ]
  },
  {
   "cell_type": "code",
   "execution_count": 14,
   "id": "32da4c68",
   "metadata": {},
   "outputs": [
    {
     "name": "stdout",
     "output_type": "stream",
     "text": [
      "[4, 2, 6, 8, 10]\n",
      "[2, 6, 8, 10]\n",
      "[2, 6, 8]\n",
      "[]\n"
     ]
    }
   ],
   "source": [
    "# remove the last element \n",
    "even.pop()\n",
    "print(even)\n",
    "\n",
    "# remove element via index\n",
    "even.pop(0) # first element\n",
    "print(even)\n",
    "\n",
    "# remove 10 \n",
    "even.remove(10)\n",
    "print(even)\n",
    "\n",
    "# remove all elements\n",
    "example_list = [1,2,3]\n",
    "example_list.clear()\n",
    "print(example_list)"
   ]
  },
  {
   "cell_type": "markdown",
   "id": "ff385d53",
   "metadata": {},
   "source": [
    "Other list operations: count, index, copy, reverse, sort"
   ]
  },
  {
   "cell_type": "code",
   "execution_count": 15,
   "id": "2704da6d",
   "metadata": {},
   "outputs": [
    {
     "name": "stdout",
     "output_type": "stream",
     "text": [
      "Number of 2 in even: 1\n",
      "Index of 2 in even: 0\n",
      "[3, 1, 7, 9, 2]\n",
      "[2, 9, 7, 1, 3]\n",
      "[1, 2, 3, 7, 9]\n"
     ]
    }
   ],
   "source": [
    "# count how many element 2 in even\n",
    "cnt = even.count(2)\n",
    "print(f\"Number of 2 in even: {cnt}\")\n",
    "\n",
    "# get the index of element 2 \n",
    "idx = even.index(2)\n",
    "print(f\"Index of 2 in even: {idx}\")\n",
    "\n",
    "# create a copy of odd\n",
    "odd_copy = odd.copy()\n",
    "print(odd_copy)\n",
    "\n",
    "# reverse the element order in odd_copy\n",
    "odd_copy.reverse()\n",
    "print(odd_copy)\n",
    "\n",
    "# sort element in odd_copy\n",
    "odd_copy.sort()\n",
    "print(odd_copy)"
   ]
  },
  {
   "cell_type": "markdown",
   "id": "2ff030cc",
   "metadata": {},
   "source": [
    "### Tuple\n",
    "Elements can not be addred or removed from the tuple."
   ]
  },
  {
   "cell_type": "code",
   "execution_count": 16,
   "id": "60052954",
   "metadata": {},
   "outputs": [
    {
     "name": "stdout",
     "output_type": "stream",
     "text": [
      "first element: 2\n",
      "index of 2: 0\n",
      "number of 2: 2\n"
     ]
    }
   ],
   "source": [
    "# create a tuple \n",
    "even = (2, 4, 2)\n",
    "\n",
    "# access element using index \n",
    "a = even[0] \n",
    "print(f\"first element: {a}\")\n",
    "\n",
    "# get index of a value \n",
    "idx = even.index(2) # return the index of value 2; return the first index if duplicates \n",
    "print(f\"index of 2: {idx}\")\n",
    "\n",
    "# count the numebr of a value \n",
    "cnt = even.count(2)\n",
    "print(f\"number of 2: {cnt}\")"
   ]
  },
  {
   "cell_type": "markdown",
   "id": "56198380",
   "metadata": {},
   "source": [
    "### Dictionary\n",
    "Dictionary comprises a list of key:value pairs. Keys are unique in the dictionary."
   ]
  },
  {
   "cell_type": "code",
   "execution_count": 17,
   "id": "393e5690",
   "metadata": {},
   "outputs": [
    {
     "name": "stdout",
     "output_type": "stream",
     "text": [
      "{'A': 0, 'B': 1, 'C': 2}\n",
      "{'A': 0, 'B': 1, 'C': 2, 'D': 4}\n",
      "{'B': 1, 'C': 2, 'D': 4}\n",
      "{'B': 1, 'C': 2}\n",
      "{'B': 1, 'C': 3}\n"
     ]
    }
   ],
   "source": [
    "# fromkeys, get, items, keys, pop, popitem, update, values \n",
    "# create a dictionary\n",
    "example = {\"A\": 0, \"B\": 1, \"C\": 2} \n",
    "example2 = dict(A = 0, B = 1, C =3)\n",
    "print(example)\n",
    "\n",
    "# add key:value\n",
    "example[\"D\"] = 4\n",
    "print(example)\n",
    "\n",
    "# remove key:value \n",
    "example.pop(\"A\")\n",
    "print(example)\n",
    "#remove the last key-item pair\n",
    "example.popitem() \n",
    "print(example)\n",
    "\n",
    "# modify key:value\n",
    "example[\"C\"] = 3\n",
    "example.update({\"C\": 3})\n",
    "print(example)"
   ]
  },
  {
   "cell_type": "markdown",
   "id": "72d9ab97",
   "metadata": {},
   "source": [
    "Access value by key"
   ]
  },
  {
   "cell_type": "code",
   "execution_count": 18,
   "id": "9eaf63db",
   "metadata": {},
   "outputs": [
    {
     "name": "stdout",
     "output_type": "stream",
     "text": [
      "Value of key 'B': 1\n",
      "Value of key 'b': None\n"
     ]
    }
   ],
   "source": [
    "B = example[\"B\"]\n",
    "print(f\"Value of key 'B': {B}\")\n",
    "\n",
    "# return None if key 'b' not found\n",
    "u = example.get(\"b\", None)\n",
    "print(f\"Value of key 'b': {u}\")"
   ]
  },
  {
   "cell_type": "markdown",
   "id": "b9720600",
   "metadata": {},
   "source": [
    "Loop through dictionary"
   ]
  },
  {
   "cell_type": "code",
   "execution_count": 19,
   "id": "e2ae8130",
   "metadata": {},
   "outputs": [
    {
     "name": "stdout",
     "output_type": "stream",
     "text": [
      "Get keys\n",
      "B\n",
      "C\n",
      "Get key:value pairs\n",
      "B:1\n",
      "C:3\n"
     ]
    }
   ],
   "source": [
    "print(\"Get keys\")\n",
    "for key in example.keys():\n",
    "  print(key)\n",
    "\n",
    "print(\"Get key:value pairs\")\n",
    "for key, val in example.items():\n",
    "  print(f\"{key}:{val}\")"
   ]
  },
  {
   "cell_type": "markdown",
   "id": "5c38d5b4",
   "metadata": {},
   "source": [
    "## Function\n",
    "Write a function to check if a number is odd or even"
   ]
  },
  {
   "cell_type": "code",
   "execution_count": 20,
   "id": "87d6b58a",
   "metadata": {},
   "outputs": [
    {
     "name": "stdout",
     "output_type": "stream",
     "text": [
      "33 is odd\n",
      "22 is even and greater than zero\n",
      "0 is zero\n"
     ]
    }
   ],
   "source": [
    "def check_number(n):\n",
    "  \"\"\"Function to check a number\"\"\"\n",
    "  if type(n) != int:\n",
    "    raise TypeError(\"Argument should be an integer\")\n",
    "  \n",
    "  if n == 0:\n",
    "    return \"zero\"\n",
    "  elif n % 2 == 0:\n",
    "    return \"even and greater than zero\"\n",
    "  else:\n",
    "    return \"odd\"\n",
    "\n",
    "a33 = check_number(33)\n",
    "a22 = check_number(22)\n",
    "a0 = check_number(0)\n",
    "\n",
    "print(f\"33 is {a33}\")\n",
    "print(f\"22 is {a22}\")\n",
    "print(f\"0 is {a0}\")"
   ]
  },
  {
   "cell_type": "markdown",
   "id": "0c2412b0",
   "metadata": {},
   "source": [
    "Test for error\n",
    "```{code-block} python\n",
    "a = check_number('a')\n",
    "```\n",
    "```{code-block} python\n",
    "TypeError: Argument should be an integer\n",
    "```\n",
    "\n",
    "## Class and object\n",
    "Object Oriented Programming (OOP): Create objects(or instances) and methods using Python classes."
   ]
  },
  {
   "cell_type": "code",
   "execution_count": 21,
   "id": "ce11667d",
   "metadata": {},
   "outputs": [
    {
     "name": "stdout",
     "output_type": "stream",
     "text": [
      "Joe\n",
      "Smith\n",
      "43\n"
     ]
    }
   ],
   "source": [
    "class User:\n",
    "    \"\"\"User class docstring\"\"\"\n",
    "    def __init__(self, name, birthday) -> None:\n",
    "        self.full_name = name \n",
    "        self.birthday = birthday \n",
    "        \n",
    "        # extract first and last name\n",
    "        user_name = self.full_name.split(\" \")\n",
    "        self.first_name = user_name[0]\n",
    "        self.last_name = user_name[1]\n",
    "\n",
    "    def age(self):\n",
    "        \"\"\"Return user age\"\"\"\n",
    "        age_year = self.birthday[0:4]\n",
    "        self.age = 2023 - int(age_year)\n",
    "        return self.age\n",
    "\n",
    "user1 = User(\"Joe Smith\", \"19800101\")\n",
    "\n",
    "print(user1.first_name)\n",
    "print(user1.last_name)\n",
    "print(user1.age())"
   ]
  },
  {
   "cell_type": "markdown",
   "id": "c4439231",
   "metadata": {},
   "source": [
    "**Name convention**: In the above example, `user1` is an **object** or **instance**. The `first_name` or `last_name` of object `user1` is **field**."
   ]
  },
  {
   "cell_type": "code",
   "execution_count": 22,
   "id": "1fd29bb8",
   "metadata": {},
   "outputs": [
    {
     "name": "stdout",
     "output_type": "stream",
     "text": [
      "Help on class User in module __main__:\n",
      "\n",
      "class User(builtins.object)\n",
      " |  User(name, birthday) -> None\n",
      " |  \n",
      " |  User class docstring\n",
      " |  \n",
      " |  Methods defined here:\n",
      " |  \n",
      " |  __init__(self, name, birthday) -> None\n",
      " |      Initialize self.  See help(type(self)) for accurate signature.\n",
      " |  \n",
      " |  age(self)\n",
      " |      Return user age\n",
      " |  \n",
      " |  ----------------------------------------------------------------------\n",
      " |  Data descriptors defined here:\n",
      " |  \n",
      " |  __dict__\n",
      " |      dictionary for instance variables (if defined)\n",
      " |  \n",
      " |  __weakref__\n",
      " |      list of weak references to the object (if defined)\n",
      "\n"
     ]
    }
   ],
   "source": [
    "# check docstring text \n",
    "help(User)"
   ]
  },
  {
   "cell_type": "markdown",
   "id": "dd063a03",
   "metadata": {},
   "source": [
    "**Class special methods**\n",
    "- `__doc__` : call docstring \n",
    "- `__init__`: initialize a class with variables\n",
    "- `__dict__`: call class attributes and values \n",
    "- `__str__`: define `str()` function for the class"
   ]
  },
  {
   "cell_type": "code",
   "execution_count": 23,
   "id": "d97da6ea",
   "metadata": {},
   "outputs": [
    {
     "name": "stdout",
     "output_type": "stream",
     "text": [
      "This is description for class Citizen\n",
      "{'first_name': 'joe', 'last_name': 'smith', 'brithday': '1990-2-25'}\n",
      "{'first_name': 'mary', 'last_name': 'Ann'}\n",
      "Mary Ann\n"
     ]
    }
   ],
   "source": [
    "class Citizen:\n",
    "  \"\"\"This is description for class Citizen\"\"\"\n",
    "  \n",
    "  def __init__(self, fn, ln):\n",
    "    \"\"\"Initialize Citizen class with first and last name\"\"\"\n",
    "    self.first_name = fn\n",
    "    self.last_name = ln\n",
    "  \n",
    "  def __str__(self):\n",
    "    return f\"{self.first_name.capitalize()} {self.last_name.capitalize()}\"\n",
    "  \n",
    "\n",
    "c1 = Citizen(\"joe\", \"smith\")\n",
    "c2 = Citizen(\"mary\", \"Ann\")\n",
    "# assign a post-defined attribute\n",
    "c1.brithday = \"1990-2-25\"\n",
    "\n",
    "# check doc string\n",
    "print(c1.__doc__)\n",
    "\n",
    "# call attribute and value\n",
    "print(c1.__dict__)\n",
    "print(c2.__dict__)\n",
    "\n",
    "# str method\n",
    "print(str(c2))"
   ]
  },
  {
   "cell_type": "markdown",
   "id": "922ee627",
   "metadata": {},
   "source": [
    "## Exceptions\n",
    "Use `try`, `except`, `else` and `finally` to manage errors of program workflow. Using try and except blocks can help program continue to run while catching what errors might occur in the try block.\n",
    "```{code-block} python\n",
    "try:\n",
    "    # run first\n",
    "    pass\n",
    "\n",
    "except NameError:\n",
    "    # run if NameError occurs in try block\n",
    "    pass\n",
    "\n",
    "except Exception as e:\n",
    "    # (optional) run if error other than NameError occurs in try block \n",
    "    # print the error message\n",
    "    print(e)\n",
    "\n",
    "else:\n",
    "    # run here when try block works\n",
    "    # run here when *none* of except blocks are executed \n",
    "    pass \n",
    "\n",
    "finally:\n",
    "    # run here *always*\n",
    "    pass\n",
    "```\n",
    "\n",
    "One can also use `raise` to raise an error in the code.\n",
    "```{code-block} python \n",
    "x = 10\n",
    "if x > 5:\n",
    "  raise Exception(\"x should not exceed 5\")\n",
    "```\n",
    "```{code-block} python\n",
    "Exception: x should not exceed 5\n",
    "```\n",
    "More on Exception Handling\n",
    "\n",
    "<iframe width=\"560\" height=\"315\" src=\"https://www.youtube.com/embed/NMTEjQ8-AJM?si=6wuBNp1ZEME_x92U\" title=\"YouTube video player\" frameborder=\"0\" allow=\"accelerometer; autoplay; clipboard-write; encrypted-media; gyroscope; picture-in-picture; web-share\" allowfullscreen></iframe>\n",
    "\n",
    "## List comprehension\n",
    "Use for loop in a list to create a new list"
   ]
  },
  {
   "cell_type": "code",
   "execution_count": 24,
   "id": "a630365c",
   "metadata": {},
   "outputs": [
    {
     "name": "stdout",
     "output_type": "stream",
     "text": [
      "[0, 1, 4, 9, 16, 25, 36, 49, 64, 81, 100]\n",
      "[0, 4, 16, 36, 64, 100]\n",
      "[(1, 2), (1, 4), (1, 6), (3, 2), (3, 4), (3, 6), (5, 2), (5, 4), (5, 6)]\n"
     ]
    }
   ],
   "source": [
    "# squared numbers from 0 to 10\n",
    "lc1 = [i**2 for i in range(0,11)]\n",
    "print(lc1)\n",
    "\n",
    "# squared numbers of even numbers from 0 to 10 \n",
    "lc2 = [i**2 for i in range(0,11) if i % 2 == 0]\n",
    "print(lc2)\n",
    "\n",
    "# cartesian product \n",
    "A = [1,3,5]\n",
    "B = [2,4,6]\n",
    "lc3 = [(a, b) for a in A for b in B]\n",
    "print(lc3)\n"
   ]
  },
  {
   "cell_type": "markdown",
   "id": "06ef5e0c",
   "metadata": {},
   "source": [
    "## Lambda expression\n",
    "Write an anonymous function in a single line of code. Multiple variables are allowed."
   ]
  },
  {
   "cell_type": "code",
   "execution_count": 25,
   "id": "f5734117",
   "metadata": {},
   "outputs": [
    {
     "name": "stdout",
     "output_type": "stream",
     "text": [
      "6\n",
      "Joe Smith\n"
     ]
    }
   ],
   "source": [
    "f = lambda x: (x + 1) * 2\n",
    "print(f(2))\n",
    "\n",
    "# process a name\n",
    "full_name = lambda fn, ln: fn.strip().title() + \" \" + ln.strip().title()\n",
    "print(full_name(\" Joe\", \"SMITH \"))\n",
    "# 'Joe Smith'"
   ]
  },
  {
   "cell_type": "markdown",
   "id": "df33836e",
   "metadata": {},
   "source": [
    "## Iterator\n",
    "Python iterables inlcude list, tuple, string and byte objects.\n",
    "```{code-block} python\n",
    "# loop through a list  \n",
    "for element in [\"A\",\"L\",\"E\",\"X\"]: \n",
    "  print(element)\n",
    "\n",
    "# loop through a tuple \n",
    "for element in (\"a\",\"l\",\"e\",\"x\"):\n",
    "  print(element)\n",
    "\n",
    "# loop through a string \n",
    "for character in \"ALEX\":\n",
    "  print(character)\n",
    "\n",
    "# loop through a b\n",
    "for byte in b'ALEX':\n",
    "  print(byte)\n",
    "```\n",
    "\n",
    "Build an iterator using `iter` and `next` functions. **It can help loop over things that have unknown lengths**."
   ]
  },
  {
   "cell_type": "code",
   "execution_count": 26,
   "id": "a4447b99",
   "metadata": {},
   "outputs": [
    {
     "name": "stdout",
     "output_type": "stream",
     "text": [
      "apple\n",
      "orange\n",
      "lemon\n"
     ]
    }
   ],
   "source": [
    "fruits = (\"apple\",\"orange\", \"lemon\")\n",
    "\n",
    "# turn an array to iterator\n",
    "looper = iter(fruits)\n",
    "\n",
    "print(next(looper))\n",
    "print(next(looper))\n",
    "print(next(looper))"
   ]
  },
  {
   "cell_type": "markdown",
   "id": "4956462a",
   "metadata": {},
   "source": [
    "When the looper is exhausted, running `next()` will result in traceback\n",
    "```{code-block} python\n",
    "next(looper)\n",
    "```\n",
    "```{code-block} python\n",
    "StopIteration    Traceback (most recent call last)\n",
    "```\n",
    "\n",
    "Create a class with built-in iteration"
   ]
  },
  {
   "cell_type": "code",
   "execution_count": 27,
   "id": "9eb179bf",
   "metadata": {},
   "outputs": [
    {
     "name": "stdout",
     "output_type": "stream",
     "text": [
      "APPL"
     ]
    },
    {
     "name": "stdout",
     "output_type": "stream",
     "text": [
      " - 5\n",
      "TSLA - 25\n"
     ]
    }
   ],
   "source": [
    "class Portfolio:\n",
    "  def __init__(self):\n",
    "    self.holdings = {} # key:ticker, value:shares\n",
    "\n",
    "  def buy(self, ticker, shares):\n",
    "    self.holdings[ticker] = self.holdings.get(ticker, 0) + shares \n",
    "\n",
    "  def sell(self, ticker, shares):\n",
    "    self.holdings[ticker] = self.holdings.get(ticker, 0) - shares\n",
    "\n",
    "  def __iter__(self):\n",
    "    return iter(self.holdings.items())\n",
    "\n",
    "p = Portfolio()\n",
    "p.buy(\"APPL\", 10)\n",
    "p.buy(\"TSLA\", 20)\n",
    "p.sell(\"APPL\", 5)\n",
    "p.buy(\"TSLA\", 5)\n",
    "\n",
    "for ticker, share in p:\n",
    "    print(ticker, \"-\", str(share))"
   ]
  },
  {
   "cell_type": "markdown",
   "id": "ff2a788a",
   "metadata": {},
   "source": [
    "More on using `itertool` module\n",
    "\n",
    "<iframe width=\"560\" height=\"315\" src=\"https://www.youtube.com/embed/baZpqVmR488?si=3e5NiFasxiR4mz0i\" title=\"YouTube video player\" frameborder=\"0\" allow=\"accelerometer; autoplay; clipboard-write; encrypted-media; gyroscope; picture-in-picture; web-share\" allowfullscreen></iframe>\n",
    "\n",
    "## Generator\n",
    "Generator is one type of iterators. A function uses `yield` instead of `return` is called generator. It can help save time and memory when running a loop through a large iterable."
   ]
  },
  {
   "cell_type": "code",
   "execution_count": 28,
   "id": "0d40456e",
   "metadata": {},
   "outputs": [],
   "source": [
    "import random\n",
    "\n",
    "# Return a list of 100 random integer (0-99)\n",
    "def number_list():\n",
    "    num_list = []\n",
    "    for i in range(100):\n",
    "        num = random.randint(0,100)\n",
    "        num_list.append(num)\n",
    "    return num_list \n",
    "\n",
    "# Generate a sequence of 100 random intger (0-99)\n",
    "def number_generator():\n",
    "    for i in range(100):\n",
    "        num = random.randint(0, 100)\n",
    "    yield num "
   ]
  },
  {
   "cell_type": "code",
   "execution_count": 29,
   "id": "dc0cc59f",
   "metadata": {},
   "outputs": [
    {
     "data": {
      "text/plain": [
       "34"
      ]
     },
     "execution_count": 29,
     "metadata": {},
     "output_type": "execute_result"
    }
   ],
   "source": [
    "next(number_generator())"
   ]
  },
  {
   "cell_type": "code",
   "execution_count": 30,
   "id": "d7f0b4ce",
   "metadata": {},
   "outputs": [
    {
     "data": {
      "text/plain": [
       "70"
      ]
     },
     "execution_count": 30,
     "metadata": {},
     "output_type": "execute_result"
    }
   ],
   "source": [
    "next(number_generator())"
   ]
  },
  {
   "cell_type": "markdown",
   "id": "4d8b995a",
   "metadata": {},
   "source": [
    "## Map, filter and reduce\n",
    "Functional programming: Apply a function to iterable data (e.g., list, tupe) in one line of code, instead of writing loops.\n",
    "\n",
    "### Map\n",
    "- `map(func, *iterables)`\n",
    "\n",
    "Apply a function to one iterable or multiple iterables when the passing function using multiple arguments. The passing function will return the result of each element in the iterable."
   ]
  },
  {
   "cell_type": "code",
   "execution_count": 31,
   "id": "3ea0e5d5",
   "metadata": {},
   "outputs": [
    {
     "name": "stdout",
     "output_type": "stream",
     "text": [
      "<map object at 0x0000021B6EDF3A00>\n",
      "['Alice', 'Ben', 'Charlie']\n"
     ]
    }
   ],
   "source": [
    "# example of one iterable\n",
    "names = [\"alice\", \"ben\",\"charlie\"]\n",
    "map_object = map(lambda x: x.capitalize(), names)\n",
    "print(map_object)\n",
    "print(list(map_object))"
   ]
  },
  {
   "cell_type": "code",
   "execution_count": 32,
   "id": "b49cd27a",
   "metadata": {},
   "outputs": [
    {
     "name": "stdout",
     "output_type": "stream",
     "text": [
      "[1.2, 2.34, 3.456]\n"
     ]
    }
   ],
   "source": [
    "floats = [1.235, 2.336, 3.4562]\n",
    "decimals = [1, 2, 3]\n",
    "map_object = map(round, floats, decimals)\n",
    "print(list(map_object))"
   ]
  },
  {
   "cell_type": "markdown",
   "id": "44d2410d",
   "metadata": {},
   "source": [
    "### Filter\n",
    "- `filter(func, iterable)`\n",
    "\n",
    "Apply a function that returns boolean values (True or False) to the iterable (one iterable only). Then it returns only the elements that is evaluated to True."
   ]
  },
  {
   "cell_type": "code",
   "execution_count": 33,
   "id": "c1925a08",
   "metadata": {},
   "outputs": [
    {
     "name": "stdout",
     "output_type": "stream",
     "text": [
      "66\n",
      "87\n",
      "95\n",
      "[]\n"
     ]
    }
   ],
   "source": [
    "nums = [35, 48 , 50, 66, 87, 95]\n",
    "\n",
    "def greater_than_50(x):\n",
    "  if x > 50:\n",
    "    return True\n",
    "\n",
    "filter_object = filter(greater_than_50, nums)\n",
    "print(next(filter_object))\n",
    "print(next(filter_object))\n",
    "print(next(filter_object))\n",
    "print(list(filter_object))"
   ]
  },
  {
   "cell_type": "markdown",
   "id": "e55b62cd",
   "metadata": {},
   "source": [
    "### Reduce\n",
    "- `reduce(func, iterable [, initial])`\n",
    "\n",
    "Apply a function with 2 arguments that takes first and next element in the iterable in a cumulative way. If the third argument (i.e., initial) is supplied, then it will become the first element. In Python 3, the `reduce` needs to be imported from `functools` library"
   ]
  },
  {
   "cell_type": "code",
   "execution_count": 34,
   "id": "23b089cc",
   "metadata": {},
   "outputs": [
    {
     "name": "stdout",
     "output_type": "stream",
     "text": [
      "10\n",
      "20\n"
     ]
    }
   ],
   "source": [
    "from functools import reduce \n",
    "\n",
    "nums = [1, 2, 3, 4]\n",
    "\n",
    "def custom_sum(x, y):\n",
    "  return x + y\n",
    "\n",
    "# without initial supplied\n",
    "res1 = reduce(custom_sum, nums)\n",
    "print(res1)\n",
    "\n",
    "# with initial supplied\n",
    "res2 = reduce(custom_sum, nums, 10)\n",
    "print(res2)"
   ]
  },
  {
   "cell_type": "markdown",
   "id": "416e1ff9",
   "metadata": {},
   "source": [
    " \n",
    "## Sorting\n",
    "\n",
    "- `mylist.sort()`: Sort elements in a list and replace the original list.\n",
    "- `nlist = sorted(mylist)`: Sort elements in a list or other iterables and return a list.\n",
    "- Both `list.sort()` and `sorted()` have a `key` argument to indicate the way of sorting. E.g., Specify which element in arrays of arrays is used for sorting. See example below.\n",
    "\n",
    "Sort a string list"
   ]
  },
  {
   "cell_type": "code",
   "execution_count": 35,
   "id": "c5a17588",
   "metadata": {},
   "outputs": [
    {
     "name": "stdout",
     "output_type": "stream",
     "text": [
      "['A', 'C', 'a', 'b', 'c']\n",
      "['c', 'b', 'a', 'C', 'A']\n"
     ]
    }
   ],
   "source": [
    "# sort a list \n",
    "mylist = ['b', 'a', 'A', 'C', 'c']\n",
    "mylist.sort()\n",
    "print(mylist)\n",
    "\n",
    "# sort with reversed order\n",
    "mylist.sort(reverse=True)\n",
    "print(mylist)"
   ]
  },
  {
   "cell_type": "markdown",
   "id": "dc1d86d9",
   "metadata": {},
   "source": [
    "Sort a list of tuples by the 2nd element in the tuple"
   ]
  },
  {
   "cell_type": "code",
   "execution_count": 36,
   "id": "4a0f64cf",
   "metadata": {},
   "outputs": [
    {
     "name": "stdout",
     "output_type": "stream",
     "text": [
      "[('A', 30), ('B', 20), ('C', 10)]\n",
      "[('C', 10), ('B', 20), ('A', 30)]\n"
     ]
    }
   ],
   "source": [
    "tuple_list = [(\"B\", 20) ,(\"A\", 30), (\"C\", 10)]\n",
    "tuple_list.sort()\n",
    "print(tuple_list)\n",
    "\n",
    "# sort by 2nd element (number) in the tuples\n",
    "num = lambda tup: tup[1]\n",
    "tuple_list.sort(key=num)\n",
    "print(tuple_list)"
   ]
  },
  {
   "cell_type": "markdown",
   "id": "6b5d7793",
   "metadata": {},
   "source": [
    "Sort elements in a tuple."
   ]
  },
  {
   "cell_type": "code",
   "execution_count": 37,
   "id": "bca8d8a0",
   "metadata": {},
   "outputs": [
    {
     "name": "stdout",
     "output_type": "stream",
     "text": [
      "[1, 3, 5, 8]\n"
     ]
    }
   ],
   "source": [
    "mytuple = (5,3,8,1)\n",
    "sorted_mytuple = sorted(mytuple)\n",
    "print(sorted_mytuple)"
   ]
  },
  {
   "cell_type": "markdown",
   "id": "84724ee5",
   "metadata": {},
   "source": [
    "**Note**: `mytuple.sort()` does not work because tuple object is immutable."
   ]
  }
 ],
 "metadata": {
  "jupytext": {
   "formats": "md:myst",
   "text_representation": {
    "extension": ".md",
    "format_name": "myst"
   }
  },
  "kernelspec": {
   "display_name": "Python 3",
   "language": "python",
   "name": "python3"
  },
  "language_info": {
   "codemirror_mode": {
    "name": "ipython",
    "version": 3
   },
   "file_extension": ".py",
   "mimetype": "text/x-python",
   "name": "python",
   "nbconvert_exporter": "python",
   "pygments_lexer": "ipython3",
   "version": "3.10.11"
  },
  "source_map": [
   11,
   16,
   28,
   32,
   41,
   76,
   87,
   90,
   93,
   96,
   98,
   101,
   104,
   107,
   110,
   113,
   118,
   121,
   124,
   128,
   134,
   136,
   143,
   146,
   161,
   164,
   166,
   169,
   186,
   189,
   209,
   213,
   228,
   233,
   255,
   258,
   265,
   268,
   276,
   280,
   300,
   312,
   335,
   338,
   341,
   348,
   375,
   418,
   433,
   437,
   445,
   468,
   477,
   487,
   509,
   517,
   534,
   537,
   539,
   549,
   557,
   562,
   569,
   581,
   588,
   603,
   612,
   621,
   623,
   632,
   635,
   639
  ]
 },
 "nbformat": 4,
 "nbformat_minor": 5
}